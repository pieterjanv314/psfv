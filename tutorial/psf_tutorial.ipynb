{
 "cells": [
  {
   "cell_type": "code",
   "execution_count": null,
   "id": "7bf0bfb7-e73d-4c87-8580-8d9c582d5e81",
   "metadata": {},
   "outputs": [],
   "source": [
    "from psfv import *\n",
    "# for documentation, open psfv/docs/build/html/index.html"
   ]
  },
  {
   "cell_type": "code",
   "execution_count": null,
   "id": "50a01708-512c-4f90-bf7c-153238f58da3",
   "metadata": {},
   "outputs": [],
   "source": [
    "#choose your favorite star.\n",
    "star_id = 'GAIA DR3 4690516677131714432' \n",
    "star_info = get_star_info(star_id) #searching some info in online catalogues. Results are stored, so it will run quicker the second time.\n",
    "print(star_info.keys())"
   ]
  },
  {
   "cell_type": "code",
   "execution_count": null,
   "id": "af3cf046-294a-41b2-8c52-a2845122b721",
   "metadata": {},
   "outputs": [],
   "source": [
    "#Check in which TESS sectors, this star has been observed\n",
    "print(star_info['observed_sectors'])"
   ]
  },
  {
   "cell_type": "code",
   "execution_count": null,
   "id": "a9f2b213-c599-4eb5-aeb3-ed21f1ce418f",
   "metadata": {},
   "outputs": [],
   "source": [
    "# choose a sector\n",
    "sector=67\n",
    "#download the TargetPixelFile\n",
    "coordinates = str(star_info['ra'])+' '+str(star_info['dec'])\n",
    "tpf = read_tpf(star_id,sector,coord=coordinates) #will be downloaded when ran for the first time."
   ]
  },
  {
   "cell_type": "code",
   "execution_count": null,
   "id": "4403ce44-b806-41ab-93bf-7af7a2739f41",
   "metadata": {},
   "outputs": [],
   "source": [
    "fancy_tpf_plot(tpf,star_id,save_fig=False)\n",
    "\n",
    "#see quickt_tpf_plot() for a simpler and quicker version"
   ]
  },
  {
   "cell_type": "code",
   "execution_count": null,
   "id": "b55ed4bd-7b9d-4caf-a204-d491fe8d8f77",
   "metadata": {},
   "outputs": [],
   "source": [
    "#Let's start with a Simple Aperature Photometry light curve\n",
    "time,flux_sap = get_raw_sap_lc(star_id, sector, mask_type='3x3',save_lc=True)\n",
    "fig = plt.figure(figsize=(7,3))\n",
    "plt.title(star_id)\n",
    "plt.plot(time,flux_sap,c='black')\n",
    "\n",
    "plt.xlabel('Time - 2457000 [BTJD days]',fontsize=8)\n",
    "plt.ylabel('SAP flux (e/s)',fontsize=8)\n",
    "plt.show()"
   ]
  },
  {
   "cell_type": "code",
   "execution_count": null,
   "id": "7b4f985d-0fed-4312-bb52-bd6c725928bf",
   "metadata": {},
   "outputs": [],
   "source": [
    "#let's choose which stars to include.\n",
    "#fit_input is just a collection of information, easy to pass along other methods.\n",
    "fit_input = create_fit_input(star_id, \n",
    "            sector=sector, \n",
    "            max_Tmag=12, #all stars below x Tmag are ignored\n",
    "            radius_inculded=3, #all stars further than x pixellengths are ignored \n",
    "            cutoutsize=11, #decide on a smaller subimage, to speed things up a bit, pixels outside the cutout are ignored for PSF fit, but included in the background estimation\n",
    "            )\n",
    "\n",
    "check_fit_input_plot(fit_input) #visual check, see documentation for more parameter options\n",
    "#red circles are FWHM"
   ]
  },
  {
   "cell_type": "code",
   "execution_count": null,
   "id": "a4d81dd3-7ea8-45ed-a957-772019561d0f",
   "metadata": {},
   "outputs": [],
   "source": [
    "#once you are happy with how it looks, you can perform the fit for all cadances\n",
    "fit_results = get_psf_fit_results(fit_input,overwrite=False)\n",
    " \n",
    "plot_psf_fitted_fluxes(fit_results) #This lightcurve shows the targets PSF flux, i.e. the \"volume\" under the fitted gaussian."
   ]
  },
  {
   "cell_type": "code",
   "execution_count": null,
   "id": "d448496f-921e-4bd3-b8b4-d5ef81cd21db",
   "metadata": {},
   "outputs": [],
   "source": [
    "#The blue lightcurve above shows the targets and neigbour PSF flux, i.e. the \"volume\" under their fitted gaussians.\n",
    "#This information can also be accessed as follows:\n",
    "    \n",
    "n_cad = len(fit_results['fit_results'])\n",
    "k = 0 # 0 is the target, higher integers for the included neigbours, these indices correspond with what is plotted in the check_fit_input_plot, increasing with apparent distance.\n",
    "flux_psf = [fit_results['fit_results'][i]['flux_fit'][k] for i in range(n_cad)]\n",
    "\n",
    "fig = plt.figure(figsize=(7,3))\n",
    "plt.title(star_id)\n",
    "plt.plot(time,flux_sap/np.median(flux_sap),c='black',label='SAP flux')\n",
    "plt.plot(time,flux_psf/np.median(flux_psf),c='C0',label='PSF flux')\n",
    "\n",
    "plt.xlabel('Time - 2457000 [BTJD days]',fontsize=8)\n",
    "plt.ylabel('Normalised flux',fontsize=8)\n",
    "plt.legend()\n",
    "plt.show()"
   ]
  },
  {
   "cell_type": "code",
   "execution_count": null,
   "id": "563b7417-c9e0-46a3-adf4-1bd5e183e63d",
   "metadata": {},
   "outputs": [],
   "source": [
    "#Check out documentation for many more methods, plots and options."
   ]
  }
 ],
 "metadata": {
  "kernelspec": {
   "display_name": "Python 3 (ipykernel)",
   "language": "python",
   "name": "python3"
  },
  "language_info": {
   "codemirror_mode": {
    "name": "ipython",
    "version": 3
   },
   "file_extension": ".py",
   "mimetype": "text/x-python",
   "name": "python",
   "nbconvert_exporter": "python",
   "pygments_lexer": "ipython3",
   "version": "3.13.5"
  }
 },
 "nbformat": 4,
 "nbformat_minor": 5
}
